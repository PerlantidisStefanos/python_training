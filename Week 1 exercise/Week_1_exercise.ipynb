{
  "nbformat": 4,
  "nbformat_minor": 0,
  "metadata": {
    "colab": {
      "name": "Week_1_exercise.ipynb",
      "provenance": [],
      "collapsed_sections": []
    },
    "kernelspec": {
      "name": "python3",
      "display_name": "Python 3"
    }
  },
  "cells": [
    {
      "cell_type": "markdown",
      "metadata": {
        "id": "5L_r5g9D4JeP",
        "colab_type": "text"
      },
      "source": [
        "# Week 1 exercise"
      ]
    },
    {
      "cell_type": "markdown",
      "metadata": {
        "id": "Rv7mUoM6uVTS",
        "colab_type": "text"
      },
      "source": [
        "Developer name: Stefanos Perlantidis-Papadopoulos\n",
        "\n",
        "Date: 2-9-2020 \n",
        "\n",
        "Data file path:\n",
        "/content/drive/My Drive/Pfizer Python Training/Week 1 excercise/data.csv"
      ]
    },
    {
      "cell_type": "markdown",
      "metadata": {
        "id": "XJPfU2XcAbTW",
        "colab_type": "text"
      },
      "source": [
        "# Task 1"
      ]
    },
    {
      "cell_type": "markdown",
      "metadata": {
        "id": "uOkNlFti_OJQ",
        "colab_type": "text"
      },
      "source": [
        "Read the file:"
      ]
    },
    {
      "cell_type": "code",
      "metadata": {
        "id": "myYXwQKP4TOI",
        "colab_type": "code",
        "colab": {}
      },
      "source": [
        "data = []\n",
        "f = open('/content/drive/My Drive/Pfizer Python Training/Week 1 excercise/data.csv', 'r')\n",
        "for line in f:\n",
        "  data.append(line.split(','))\n",
        "f.close()"
      ],
      "execution_count": 44,
      "outputs": []
    },
    {
      "cell_type": "markdown",
      "metadata": {
        "id": "TwEB0ZFRAe-6",
        "colab_type": "text"
      },
      "source": [
        "# Task 2"
      ]
    },
    {
      "cell_type": "markdown",
      "metadata": {
        "id": "JEReGkiMewEP",
        "colab_type": "text"
      },
      "source": [
        "How many rows does it have?\n",
        "\n",
        "How many columns does it have?"
      ]
    },
    {
      "cell_type": "code",
      "metadata": {
        "id": "dEaLpjYg4fv-",
        "colab_type": "code",
        "colab": {
          "base_uri": "https://localhost:8080/",
          "height": 34
        },
        "outputId": "39f7b16b-67b4-4211-8810-a4762e11ab9a"
      },
      "source": [
        "print('The data table has ',len(data),' rows and ',len(data[0]),' columns')\n"
      ],
      "execution_count": 66,
      "outputs": [
        {
          "output_type": "stream",
          "text": [
            "The data table has  569  rows and  31  columns\n"
          ],
          "name": "stdout"
        }
      ]
    },
    {
      "cell_type": "markdown",
      "metadata": {
        "id": "36IyPS-XAiBs",
        "colab_type": "text"
      },
      "source": [
        "# Task 3"
      ]
    },
    {
      "cell_type": "markdown",
      "metadata": {
        "id": "NaJnyeT1e55Y",
        "colab_type": "text"
      },
      "source": [
        "Compute the mean of each column"
      ]
    },
    {
      "cell_type": "code",
      "metadata": {
        "id": "a6uQlYQH8Zgh",
        "colab_type": "code",
        "colab": {
          "base_uri": "https://localhost:8080/",
          "height": 34
        },
        "outputId": "7535f5e6-d72e-4486-d320-a52e8bd9ea33"
      },
      "source": [
        "print('The type of this list elements is :', type(data[0][0]))"
      ],
      "execution_count": 69,
      "outputs": [
        {
          "output_type": "stream",
          "text": [
            "The type of the list elements is : <class 'str'>\n"
          ],
          "name": "stdout"
        }
      ]
    },
    {
      "cell_type": "markdown",
      "metadata": {
        "id": "simgESskAzhx",
        "colab_type": "text"
      },
      "source": [
        "First of all we have to change the data type so that we can make calculations"
      ]
    },
    {
      "cell_type": "code",
      "metadata": {
        "id": "JynqE7ZvAydh",
        "colab_type": "code",
        "colab": {
          "base_uri": "https://localhost:8080/",
          "height": 51
        },
        "outputId": "a028e17b-e663-47d5-ddf6-d37e864cc9b0"
      },
      "source": [
        "print('The type of this list elements is :', type(float(data[0][0])))\n",
        "print('Hurray!!! :-D')"
      ],
      "execution_count": 75,
      "outputs": [
        {
          "output_type": "stream",
          "text": [
            "The type of this list elements is : <class 'float'>\n",
            "Hurray!!! :-D\n"
          ],
          "name": "stdout"
        }
      ]
    },
    {
      "cell_type": "code",
      "metadata": {
        "id": "GeDvYl4sBS6Z",
        "colab_type": "code",
        "colab": {}
      },
      "source": [
        "for i in range (len(data)):\n",
        "  for j in range (len(data[0])):\n",
        "    data[i][j] = float(data[i][j])"
      ],
      "execution_count": 76,
      "outputs": []
    },
    {
      "cell_type": "markdown",
      "metadata": {
        "id": "klTJfTjgCyLB",
        "colab_type": "text"
      },
      "source": [
        "Calculate the mean of each column"
      ]
    },
    {
      "cell_type": "code",
      "metadata": {
        "id": "9txN8dCFCM5F",
        "colab_type": "code",
        "colab": {}
      },
      "source": [
        "col_mean = []\n",
        "for j in range (len(data[0])):\n",
        "  temp = 0\n",
        "  for i in range (len(data)):\n",
        "    temp += data[i][j]\n",
        "  col_mean.append(temp/len(data))"
      ],
      "execution_count": 96,
      "outputs": []
    },
    {
      "cell_type": "markdown",
      "metadata": {
        "id": "mM5XQCzwFNm2",
        "colab_type": "text"
      },
      "source": [
        "# Task 4"
      ]
    },
    {
      "cell_type": "markdown",
      "metadata": {
        "id": "DLpT58abGBYf",
        "colab_type": "text"
      },
      "source": [
        "To calculate the variance:\n",
        "\n",
        "1) Work out the Mean \n",
        "\n",
        "2) Then for each number: subtract the Mean and square the result (the squared difference).\n",
        "\n",
        "3) Then work out the average of those squared differences. "
      ]
    },
    {
      "cell_type": "code",
      "metadata": {
        "id": "Xt-gJ5VdETyv",
        "colab_type": "code",
        "colab": {}
      },
      "source": [
        "col_var = []\n",
        "for j in range (len(data[0])):\n",
        "  temp = 0\n",
        "  for i in range (len(data)):\n",
        "    temp += (col_mean[j] - data[i][j]) ** 2\n",
        "  col_var.append(temp/len(data))"
      ],
      "execution_count": 98,
      "outputs": []
    },
    {
      "cell_type": "markdown",
      "metadata": {
        "id": "6UcLT_pCIla4",
        "colab_type": "text"
      },
      "source": [
        "#Task 5"
      ]
    },
    {
      "cell_type": "markdown",
      "metadata": {
        "id": "U4is6t02fEqb",
        "colab_type": "text"
      },
      "source": [
        "Print the results"
      ]
    },
    {
      "cell_type": "code",
      "metadata": {
        "id": "_w8njjJDIiAa",
        "colab_type": "code",
        "colab": {
          "base_uri": "https://localhost:8080/",
          "height": 544
        },
        "outputId": "22a69253-354b-4447-b8c1-d0ab3ca29472"
      },
      "source": [
        "for i in range (0,len(col_mean)):\n",
        "  print('The mean of column ', i ,' is ', col_mean[i], 'and the variance is ', col_var[i])"
      ],
      "execution_count": 103,
      "outputs": [
        {
          "output_type": "stream",
          "text": [
            "The mean of column  0  is  14.127291739894563 and the variance is  12.39709425935181\n",
            "The mean of column  1  is  19.28964850615117 and the variance is  18.46639741599513\n",
            "The mean of column  2  is  91.96903339191566 and the variance is  589.4027985384278\n",
            "The mean of column  3  is  654.8891036906857 and the variance is  123625.90307986429\n",
            "The mean of column  4  is  0.096360281195079 and the variance is  0.00019745207338314372\n",
            "The mean of column  5  is  0.10434098418277686 and the variance is  0.002784285489365304\n",
            "The mean of column  6  is  0.08879931581722322 and the variance is  0.006344078747698312\n",
            "The mean of column  7  is  0.048919145869947236 and the variance is  0.0015030146166694059\n",
            "The mean of column  8  is  0.181161862917399 and the variance is  0.0007502220077773419\n",
            "The mean of column  9  is  0.06279760984182776 and the variance is  4.976111520102791e-05\n",
            "The mean of column  10  is  0.4051720562390161 and the variance is  0.07676719835798636\n",
            "The mean of column  11  is  1.2168534270650269 and the variance is  0.3037811231560935\n",
            "The mean of column  12  is  2.8660592267135288 and the variance is  4.080711486492194\n",
            "The mean of column  13  is  40.33707908611603 and the variance is  2065.7946205086814\n",
            "The mean of column  14  is  0.007040978910369071 and the variance is  8.999270217481423e-06\n",
            "The mean of column  15  is  0.025478138840070306 and the variance is  0.0003201392613005824\n",
            "The mean of column  16  is  0.03189371634446394 and the variance is  0.0009095968349446704\n",
            "The mean of column  17  is  0.011796137082601056 and the variance is  3.8005508023387585e-05\n",
            "The mean of column  18  is  0.020542298769771532 and the variance is  6.82128052850776e-05\n",
            "The mean of column  19  is  0.0037949038664323374 and the variance is  6.9893863052926034e-06\n",
            "The mean of column  20  is  16.269189806678394 and the variance is  23.319169299650056\n",
            "The mean of column  21  is  25.677223198594014 and the variance is  37.71009176213321\n",
            "The mean of column  22  is  107.2612126537786 and the variance is  1127.146434206096\n",
            "The mean of column  23  is  880.5831282952545 and the variance is  323597.6708928502\n",
            "The mean of column  24  is  0.13236859402460469 and the variance is  0.0005204036289546916\n",
            "The mean of column  25  is  0.25426504393673144 and the variance is  0.024711264995472573\n",
            "The mean of column  26  is  0.27218848330404205 and the variance is  0.04344759820889297\n",
            "The mean of column  27  is  0.11460622319859404 and the variance is  0.004313147110243685\n",
            "The mean of column  28  is  0.29007557117750454 and the variance is  0.0038208566791553033\n",
            "The mean of column  29  is  0.08394581722319855 and the variance is  0.0003256360752987545\n",
            "The mean of column  30  is  0.37258347978910367 and the variance is  0.2337650303773462\n"
          ],
          "name": "stdout"
        }
      ]
    },
    {
      "cell_type": "markdown",
      "metadata": {
        "id": "i0dXl-iUJho1",
        "colab_type": "text"
      },
      "source": [
        "#Task 6 (Bonus 1)"
      ]
    },
    {
      "cell_type": "markdown",
      "metadata": {
        "id": "TH8xaH13fIYt",
        "colab_type": "text"
      },
      "source": [
        "Compute the median of each column."
      ]
    },
    {
      "cell_type": "code",
      "metadata": {
        "id": "caWovMEMI3Kk",
        "colab_type": "code",
        "colab": {}
      },
      "source": [
        "col_median = []\n",
        "for j in range (len(data[0])):\n",
        "  temp_list = []\n",
        "  for i in range (len(data)):\n",
        "    temp_list.append(data[i][j])\n",
        "  temp_list.sort()\n",
        "  col_median.append(temp_list[len(temp_list)//2])"
      ],
      "execution_count": 121,
      "outputs": []
    },
    {
      "cell_type": "code",
      "metadata": {
        "id": "ygBl7OBqKn8D",
        "colab_type": "code",
        "colab": {
          "base_uri": "https://localhost:8080/",
          "height": 544
        },
        "outputId": "519be86d-7cfd-434c-d8d0-214eaa70c43d"
      },
      "source": [
        "for i in range (0,len(col_mean)):\n",
        "  print('The median of column ', i ,' is ', col_median[i])"
      ],
      "execution_count": 124,
      "outputs": [
        {
          "output_type": "stream",
          "text": [
            "The median of column  0  is  13.37\n",
            "The median of column  1  is  18.84\n",
            "The median of column  2  is  86.24\n",
            "The median of column  3  is  551.1\n",
            "The median of column  4  is  0.09587000000000001\n",
            "The median of column  5  is  0.09262999999999999\n",
            "The median of column  6  is  0.06154\n",
            "The median of column  7  is  0.0335\n",
            "The median of column  8  is  0.1792\n",
            "The median of column  9  is  0.06154\n",
            "The median of column  10  is  0.3242\n",
            "The median of column  11  is  1.1079999999999999\n",
            "The median of column  12  is  2.287\n",
            "The median of column  13  is  24.53\n",
            "The median of column  14  is  0.006379999999999999\n",
            "The median of column  15  is  0.02045\n",
            "The median of column  16  is  0.025889999999999996\n",
            "The median of column  17  is  0.01093\n",
            "The median of column  18  is  0.01873\n",
            "The median of column  19  is  0.003187\n",
            "The median of column  20  is  14.97\n",
            "The median of column  21  is  25.41\n",
            "The median of column  22  is  97.66\n",
            "The median of column  23  is  686.5\n",
            "The median of column  24  is  0.1313\n",
            "The median of column  25  is  0.2119\n",
            "The median of column  26  is  0.2267\n",
            "The median of column  27  is  0.09992999999999999\n",
            "The median of column  28  is  0.2822\n",
            "The median of column  29  is  0.08004\n",
            "The median of column  30  is  0.0\n"
          ],
          "name": "stdout"
        }
      ]
    },
    {
      "cell_type": "markdown",
      "metadata": {
        "id": "q8S0bApOJolV",
        "colab_type": "text"
      },
      "source": [
        "#Task 7 (Bonus 2)"
      ]
    },
    {
      "cell_type": "markdown",
      "metadata": {
        "id": "HpboMspCfP1c",
        "colab_type": "text"
      },
      "source": [
        "Incorporate the above functionality into a python class"
      ]
    },
    {
      "cell_type": "code",
      "metadata": {
        "id": "rvAPZojpKV6n",
        "colab_type": "code",
        "colab": {}
      },
      "source": [
        "class Dataset:\n",
        "  data = []\n",
        "\n",
        "  def __init__(self,my_path):\n",
        "    try:\n",
        "      self.data.clear()\n",
        "      #read the data\n",
        "      f = open(my_path, 'r')\n",
        "      for line in f:\n",
        "        self.data.append(line.split(','))\n",
        "      #convert the table to float\n",
        "      for i in range (len(self.data)):\n",
        "        for j in range (len(self.data[0])):\n",
        "          self.data[i][j] = float(self.data[i][j])\n",
        "      #calculate and print results\n",
        "      mean = self.calc_mean()\n",
        "      variance = self.calc_var()\n",
        "      median = self.calc_meadian()\n",
        "      for i in range (0,len(mean)):\n",
        "        print('The mean of column ', i , ' is : ' , mean[i] , ', the variance is : ' , variance[i] , ' and the median is : ' , median[i])\n",
        "      f.close()\n",
        "    except (FileNotFoundError, IOError):\n",
        "      print(\"Wrong file or file path\")\n",
        "\n",
        "  def get_data(self):\n",
        "    return self.data\n",
        "\n",
        "  def calc_mean(self):\n",
        "    col_mean = []\n",
        "    for j in range (len(self.data[0])):\n",
        "      temp = 0\n",
        "      for i in range (len(self.data)):\n",
        "        temp += self.data[i][j]\n",
        "      col_mean.append(temp/len(self.data))\n",
        "    return col_mean\n",
        "\n",
        "  def calc_var(self):\n",
        "    col_var = []\n",
        "    for j in range (len(self.data[0])):\n",
        "      temp = 0\n",
        "      for i in range (len(self.data)):\n",
        "        temp += (col_mean[j] - self.data[i][j]) ** 2\n",
        "      col_var.append(temp/len(self.data))\n",
        "    return col_var\n",
        "\n",
        "  def calc_meadian(self):\n",
        "    col_median = []\n",
        "    for j in range (len(self.data[0])):\n",
        "      temp_list = []\n",
        "      for i in range (len(self.data)):\n",
        "        temp_list.append(self.data[i][j])\n",
        "      temp_list.sort()\n",
        "      col_median.append(temp_list[len(temp_list)//2])\n",
        "    return col_median"
      ],
      "execution_count": 181,
      "outputs": []
    },
    {
      "cell_type": "code",
      "metadata": {
        "id": "yWkOzdzhQhGt",
        "colab_type": "code",
        "colab": {
          "base_uri": "https://localhost:8080/",
          "height": 544
        },
        "outputId": "fab9e0f2-6f38-4183-f309-c95e2c1086d8"
      },
      "source": [
        "example1 = Dataset('/content/drive/My Drive/Pfizer Python Training/Week 1 excercise/data.csv')"
      ],
      "execution_count": 183,
      "outputs": [
        {
          "output_type": "stream",
          "text": [
            "The mean of column  0  is :  14.127291739894563 , the variance is :  12.39709425935181  and the median is :  13.37\n",
            "The mean of column  1  is :  19.28964850615117 , the variance is :  18.46639741599513  and the median is :  18.84\n",
            "The mean of column  2  is :  91.96903339191566 , the variance is :  589.4027985384278  and the median is :  86.24\n",
            "The mean of column  3  is :  654.8891036906857 , the variance is :  123625.90307986429  and the median is :  551.1\n",
            "The mean of column  4  is :  0.096360281195079 , the variance is :  0.00019745207338314372  and the median is :  0.09587000000000001\n",
            "The mean of column  5  is :  0.10434098418277686 , the variance is :  0.002784285489365304  and the median is :  0.09262999999999999\n",
            "The mean of column  6  is :  0.08879931581722322 , the variance is :  0.006344078747698312  and the median is :  0.06154\n",
            "The mean of column  7  is :  0.048919145869947236 , the variance is :  0.0015030146166694059  and the median is :  0.0335\n",
            "The mean of column  8  is :  0.181161862917399 , the variance is :  0.0007502220077773419  and the median is :  0.1792\n",
            "The mean of column  9  is :  0.06279760984182776 , the variance is :  4.976111520102791e-05  and the median is :  0.06154\n",
            "The mean of column  10  is :  0.4051720562390161 , the variance is :  0.07676719835798636  and the median is :  0.3242\n",
            "The mean of column  11  is :  1.2168534270650269 , the variance is :  0.3037811231560935  and the median is :  1.1079999999999999\n",
            "The mean of column  12  is :  2.8660592267135288 , the variance is :  4.080711486492194  and the median is :  2.287\n",
            "The mean of column  13  is :  40.33707908611603 , the variance is :  2065.7946205086814  and the median is :  24.53\n",
            "The mean of column  14  is :  0.007040978910369071 , the variance is :  8.999270217481423e-06  and the median is :  0.006379999999999999\n",
            "The mean of column  15  is :  0.025478138840070306 , the variance is :  0.0003201392613005824  and the median is :  0.02045\n",
            "The mean of column  16  is :  0.03189371634446394 , the variance is :  0.0009095968349446704  and the median is :  0.025889999999999996\n",
            "The mean of column  17  is :  0.011796137082601056 , the variance is :  3.8005508023387585e-05  and the median is :  0.01093\n",
            "The mean of column  18  is :  0.020542298769771532 , the variance is :  6.82128052850776e-05  and the median is :  0.01873\n",
            "The mean of column  19  is :  0.0037949038664323374 , the variance is :  6.9893863052926034e-06  and the median is :  0.003187\n",
            "The mean of column  20  is :  16.269189806678394 , the variance is :  23.319169299650056  and the median is :  14.97\n",
            "The mean of column  21  is :  25.677223198594014 , the variance is :  37.71009176213321  and the median is :  25.41\n",
            "The mean of column  22  is :  107.2612126537786 , the variance is :  1127.146434206096  and the median is :  97.66\n",
            "The mean of column  23  is :  880.5831282952545 , the variance is :  323597.6708928502  and the median is :  686.5\n",
            "The mean of column  24  is :  0.13236859402460469 , the variance is :  0.0005204036289546916  and the median is :  0.1313\n",
            "The mean of column  25  is :  0.25426504393673144 , the variance is :  0.024711264995472573  and the median is :  0.2119\n",
            "The mean of column  26  is :  0.27218848330404205 , the variance is :  0.04344759820889297  and the median is :  0.2267\n",
            "The mean of column  27  is :  0.11460622319859404 , the variance is :  0.004313147110243685  and the median is :  0.09992999999999999\n",
            "The mean of column  28  is :  0.29007557117750454 , the variance is :  0.0038208566791553033  and the median is :  0.2822\n",
            "The mean of column  29  is :  0.08394581722319855 , the variance is :  0.0003256360752987545  and the median is :  0.08004\n",
            "The mean of column  30  is :  0.37258347978910367 , the variance is :  0.2337650303773462  and the median is :  0.0\n"
          ],
          "name": "stdout"
        }
      ]
    },
    {
      "cell_type": "code",
      "metadata": {
        "id": "ZIZeFSbpVZTc",
        "colab_type": "code",
        "colab": {}
      },
      "source": [
        ""
      ],
      "execution_count": null,
      "outputs": []
    }
  ]
}