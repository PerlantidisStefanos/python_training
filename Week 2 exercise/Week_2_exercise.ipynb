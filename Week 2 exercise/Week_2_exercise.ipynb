{
  "nbformat": 4,
  "nbformat_minor": 0,
  "metadata": {
    "colab": {
      "name": "Week_2_exercise.ipynb",
      "provenance": [],
      "collapsed_sections": [],
      "toc_visible": true
    },
    "kernelspec": {
      "name": "python3",
      "display_name": "Python 3"
    }
  },
  "cells": [
    {
      "cell_type": "code",
      "metadata": {
        "id": "CSIGsDQ79RCo",
        "colab_type": "code",
        "colab": {}
      },
      "source": [
        "import numpy as np"
      ],
      "execution_count": 121,
      "outputs": []
    },
    {
      "cell_type": "code",
      "metadata": {
        "id": "vzCLd2OFyD3l",
        "colab_type": "code",
        "colab": {}
      },
      "source": [
        "class Dataset:\n",
        "  \n",
        "  def __init__(self,my_path):\n",
        "    self.data = []\n",
        "    self.my_path = my_path\n",
        "    self.open_file()\n",
        "\n",
        "  def open_file(self):\n",
        "    #read the data\n",
        "    f = open(self.my_path, 'r')\n",
        "    for line in f:\n",
        "      self.data.append(line.split(','))\n",
        "\n",
        "  def mapping(self,col): # This method is mapping all unique values to integers and returns an encoded version of the given list\n",
        "    # Create a dictionary with all the unique values found in the list and give them a unique code number\n",
        "    dictionary = {}\n",
        "    counter = 0\n",
        "    for x in col:\n",
        "      if x not in dictionary:\n",
        "        dictionary[x] = counter\n",
        "        counter += 1\n",
        "    #print(dictionary)\n",
        "    # Replace all values in the column with the encoded version and return the result\n",
        "    for i in range(0,len(col)):\n",
        "      col[i] = dictionary[col[i]]\n",
        "    return col\n",
        "\n",
        "  def col_to_list(self,col_no): #This method, given the column index, returns it as a list \n",
        "    temp_col = []\n",
        "    for i in range(0,len(d.data)):\n",
        "      temp_col.append(d.data[i][col_no])\n",
        "    return temp_col\n",
        "\n",
        "  def one_hot_encoding(self,col): # This method returns the one-hot-encoded version of a list as a list of lists \n",
        "    dictionary = {}\n",
        "    counter = 0\n",
        "    for x in col:\n",
        "      if x not in dictionary:\n",
        "        dictionary[x] = counter\n",
        "        counter += 1\n",
        "    #print(dictionary)\n",
        "    z = np.zeros((len(col),len(dictionary)), dtype='int') \n",
        "    for x in range (0,len(col)): #iterate the columns\n",
        "      z[x][dictionary[col[x]]] = 1\n",
        "    return z\n",
        "\n",
        "  def binary_encoding(self,col): # reuturns the binary encoded form of list in numpy array where each bit is in differet column.\n",
        "    col = self.mapping(col)\n",
        "    max_digits = len(self.decimalToBinary(max(col)))\n",
        "    z = np.zeros((len(col),max_digits), dtype='int')\n",
        "    for i in range(0,len(col)):\n",
        "      num = self.decimalToBinary(col[i])\n",
        "      digits = len(num)\n",
        "      for j in range(0,max_digits):\n",
        "        if (j < digits):\n",
        "          z[i][j] = num[j]\n",
        "        else:\n",
        "          z[i][j] = -1 #-1 is not a part of the decimal and represents the end of the number\n",
        "    return z\n",
        "\n",
        "  def decimalToBinary(self, num):       \n",
        "      return bin(num)[2:]\n",
        "\n",
        "  def mapping_all(self): #This method is encoding all categorical columns\n",
        "    for x in range (0,len(self.data[0])): #iterate the columns\n",
        "      col = []\n",
        "      if (not self.data[0][x].isdigit()): # check if the first element of the column is digit or string\n",
        "        col = self.mapping(self.col_to_list(x)) # convert the strings column to an encoded version\n",
        "      for i in range (0,len(col)): # replace the old with the new values\n",
        "        self.data[i][x] = str(col[i])\n",
        "  \n",
        "  def create_numpy_array(self):\n",
        "    for i in range (0,len(self.data[0])): # convert all values to int\n",
        "      for j in range (0,len(self.data)):\n",
        "        self.data[j][i] = int(self.data[j][i]) \n",
        "    self.ndata = np.array(self.data, dtype='int') # store numpy array into the instance value ndata\n",
        "    return self.ndata\n",
        "    \n",
        "  def calc_mean(self):\n",
        "      col_mean = []\n",
        "      for j in range (len(self.ndata[0])):\n",
        "        temp = 0\n",
        "        for i in range (len(self.ndata)):\n",
        "          temp += self.ndata[i][j]\n",
        "        col_mean.append(temp/len(self.ndata))\n",
        "      return col_mean\n",
        "\n",
        "  def calc_var(self):\n",
        "    col_var = []\n",
        "    col_mean = self.calc_mean()\n",
        "    for j in range (len(self.ndata[0])):\n",
        "      temp = 0\n",
        "      for i in range (len(self.ndata)):\n",
        "        temp += (col_mean[j] - self.ndata[i][j]) ** 2\n",
        "      col_var.append(temp/len(self.ndata))\n",
        "    return col_var\n",
        "\n",
        "  def calc_median(self):\n",
        "    col_median = []\n",
        "    for j in range (len(self.ndata[0])):\n",
        "      temp_list = []\n",
        "      for i in range (len(self.ndata)):\n",
        "        temp_list.append(self.ndata[i][j])\n",
        "      temp_list.sort()\n",
        "      col_median.append(temp_list[len(temp_list)//2])\n",
        "    return col_median\n",
        "\n",
        "  def normalize(self):\n",
        "    min_col = np.amin(self.ndata, axis=0)\n",
        "    max_col = np.amax(self.ndata, axis=0)\n",
        "    self.ndata = self.ndata.astype(float)\n",
        "    for i in range(0,len(self.ndata[0])):\n",
        "      for j in range(0,len(self.ndata)):\n",
        "        self.ndata[j][i] = (self.ndata[j][i] - min_col[i]) / (max_col[i] - min_col[i])   \n",
        "\n",
        "  def standarize(self):\n",
        "    mean_col = self.calc_mean()\n",
        "    std_col = np.std(self.ndata,axis=0)\n",
        "    self.ndata = self.ndata.astype(float)\n",
        "    for i in range(0,len(self.ndata[0])):\n",
        "      for j in range(0,len(self.ndata)):\n",
        "        self.ndata[j][i] = (self.ndata[j][i] - mean_col[i]) / std_col[i]   \n"
      ],
      "execution_count": 122,
      "outputs": []
    },
    {
      "cell_type": "markdown",
      "metadata": {
        "id": "c6wx4tdqglx7",
        "colab_type": "text"
      },
      "source": [
        "#Task 1 results"
      ]
    },
    {
      "cell_type": "code",
      "metadata": {
        "id": "7BnnQQxIguk_",
        "colab_type": "code",
        "colab": {
          "base_uri": "https://localhost:8080/",
          "height": 54
        },
        "outputId": "ce79b941-8013-4ebc-e4d1-8126fc1b86fc"
      },
      "source": [
        "d = Dataset('/content/data.csv')\n",
        "a = d.mapping(d.col_to_list(1))\n",
        "print(a)"
      ],
      "execution_count": 123,
      "outputs": [
        {
          "output_type": "stream",
          "text": [
            "[0, 1, 2, 3, 0, 0, 0, 0, 0, 0, 0, 0, 0, 0, 0, 0, 0, 3, 0, 0, 0, 0, 0, 4, 0, 2, 1, 1, 0, 0, 0, 0, 5, 0, 0, 0, 0, 1, 0, 0, 3, 2, 0, 0, 0, 2, 0, 0, 0, 0, 1, 0, 1, 0, 4, 0, 6, 0, 0, 4, 6, 2, 0, 0, 0, 3, 0, 0, 0, 4, 2, 3, 0, 2, 0, 0, 5, 0, 0, 0, 0, 1, 5, 0, 1, 0, 4, 0, 0, 0, 0, 4, 4, 0, 2, 2, 0, 5, 0, 0]\n"
          ],
          "name": "stdout"
        }
      ]
    },
    {
      "cell_type": "code",
      "metadata": {
        "id": "3YGRgIfTheG1",
        "colab_type": "code",
        "colab": {
          "base_uri": "https://localhost:8080/",
          "height": 102
        },
        "outputId": "8b2d78d1-70df-4212-d613-db62a41e4022"
      },
      "source": [
        "b = d.one_hot_encoding(d.col_to_list(1))\n",
        "print(b[0:5])"
      ],
      "execution_count": 124,
      "outputs": [
        {
          "output_type": "stream",
          "text": [
            "[[1 0 0 0 0 0 0]\n",
            " [0 1 0 0 0 0 0]\n",
            " [0 0 1 0 0 0 0]\n",
            " [0 0 0 1 0 0 0]\n",
            " [1 0 0 0 0 0 0]]\n"
          ],
          "name": "stdout"
        }
      ]
    },
    {
      "cell_type": "code",
      "metadata": {
        "id": "R5f_BtJQAtbW",
        "colab_type": "code",
        "colab": {
          "base_uri": "https://localhost:8080/",
          "height": 102
        },
        "outputId": "c9f975ba-7e30-450e-982c-192402f5052a"
      },
      "source": [
        "d = Dataset('/content/data.csv')\n",
        "a = d.binary_encoding(d.col_to_list(1))\n",
        "print(a[:5])"
      ],
      "execution_count": 125,
      "outputs": [
        {
          "output_type": "stream",
          "text": [
            "[[ 0 -1 -1]\n",
            " [ 1 -1 -1]\n",
            " [ 1  0 -1]\n",
            " [ 1  1 -1]\n",
            " [ 0 -1 -1]]\n"
          ],
          "name": "stdout"
        }
      ]
    },
    {
      "cell_type": "markdown",
      "metadata": {
        "id": "DJXt0M3Cguum",
        "colab_type": "text"
      },
      "source": [
        "#Task 2 results"
      ]
    },
    {
      "cell_type": "code",
      "metadata": {
        "id": "Sku2YXpjgxAb",
        "colab_type": "code",
        "colab": {
          "base_uri": "https://localhost:8080/",
          "height": 374
        },
        "outputId": "d9cf6e0c-029f-4fde-d47c-1650b83a7da1"
      },
      "source": [
        "d = Dataset('/content/data.csv')\n",
        "d.mapping_all()\n",
        "c = d.create_numpy_array()\n",
        "print('The array type is: ', type(c))\n",
        "print (c[0:3])\n",
        "mean = d.calc_mean()\n",
        "median = d.calc_median()\n",
        "variance = d.calc_var()\n",
        "for i in range(0,len(mean)):\n",
        "  print('The mean of column ', i , ' is : ' , mean[i] , ', the variance is : ' , variance[i] , ' and the median is : ' , median[i])"
      ],
      "execution_count": 126,
      "outputs": [
        {
          "output_type": "stream",
          "text": [
            "The array type is:  <class 'numpy.ndarray'>\n",
            "[[    28      0  37821      0     11      0      0      0      0      0\n",
            "       0      0     55      0]\n",
            " [    33      1 119829      1      9      1      1      1      0      0\n",
            "       0      0     60      1]\n",
            " [    70      2 177199      1      9      1      2      2      0      1\n",
            "       0      0      3      1]]\n",
            "The mean of column  0  is :  41.04 , the variance is :  239.97840000000005  and the median is :  38\n",
            "The mean of column  1  is :  1.01 , the variance is :  2.709900000000003  and the median is :  0\n",
            "The mean of column  2  is :  172838.44 , the variance is :  8693090829.1664  and the median is :  169973\n",
            "The mean of column  3  is :  3.22 , the variance is :  7.811599999999999  and the median is :  3\n",
            "The mean of column  4  is :  10.29 , the variance is :  6.245900000000001  and the median is :  10\n",
            "The mean of column  5  is :  1.21 , the variance is :  1.5258999999999998  and the median is :  1\n",
            "The mean of column  6  is :  4.19 , the variance is :  13.113900000000001  and the median is :  3\n",
            "The mean of column  7  is :  2.28 , the variance is :  1.4416000000000002  and the median is :  2\n",
            "The mean of column  8  is :  0.21 , the variance is :  0.44590000000000013  and the median is :  0\n",
            "The mean of column  9  is :  0.67 , the variance is :  0.2211  and the median is :  1\n",
            "The mean of column  10  is :  1712.66 , the variance is :  105405795.4444001  and the median is :  0\n",
            "The mean of column  11  is :  40.9 , the variance is :  62531.3699999999  and the median is :  0\n",
            "The mean of column  12  is :  38.14 , the variance is :  201.1004  and the median is :  40\n",
            "The mean of column  13  is :  1.43 , the variance is :  2.685100000000003  and the median is :  1\n"
          ],
          "name": "stdout"
        }
      ]
    },
    {
      "cell_type": "markdown",
      "metadata": {
        "id": "qX6E48LcgxM3",
        "colab_type": "text"
      },
      "source": [
        "#Task 3 answers"
      ]
    },
    {
      "cell_type": "markdown",
      "metadata": {
        "id": "XjUxU3e-j2gO",
        "colab_type": "text"
      },
      "source": [
        "1) Since strings can be used to represent both characters and numbers, why\n",
        "isn’t it effective to store the data as an array of strings?\n",
        "*   With strings its not possible to perform mathematical calculations\n",
        "*   Its easy for machine learning algorithms to handle numbers\n",
        "*   Strings require more memory than ints and floats so there is a possibility of performance loss\n",
        "\n",
        "\n"
      ]
    },
    {
      "cell_type": "markdown",
      "metadata": {
        "id": "dg0oBq1uj2i-",
        "colab_type": "text"
      },
      "source": [
        "2) How many columns are needed encode a column with each N unique values,\n",
        "with each of the 3 encoding strategies?\n",
        "*   Mapping: 1 column\n",
        "*   One-hot-encoding: N columns\n",
        "*   Binary: As many columns as the number of bits needed to represent N in binary format \n",
        "\n"
      ]
    },
    {
      "cell_type": "markdown",
      "metadata": {
        "id": "AE7Ysm6Mg0EC",
        "colab_type": "text"
      },
      "source": [
        "#Task 4 results"
      ]
    },
    {
      "cell_type": "code",
      "metadata": {
        "id": "jdgQ_MEWg1oj",
        "colab_type": "code",
        "colab": {
          "base_uri": "https://localhost:8080/",
          "height": 136
        },
        "outputId": "4848c46e-8f32-469a-ee5f-9c629949ab67"
      },
      "source": [
        "d = Dataset('/content/data.csv')\n",
        "d.mapping_all()\n",
        "d.create_numpy_array()\n",
        "d.normalize()\n",
        "print(d.ndata)"
      ],
      "execution_count": 127,
      "outputs": [
        {
          "output_type": "stream",
          "text": [
            "[[0.13888889 0.         0.03319837 ... 0.         0.63855422 0.        ]\n",
            " [0.20833333 0.16666667 0.22704184 ... 0.         0.69879518 0.1       ]\n",
            " [0.72222222 0.33333333 0.36264812 ... 0.         0.01204819 0.1       ]\n",
            " ...\n",
            " [0.54166667 0.83333333 0.27816897 ... 0.         0.45783133 0.1       ]\n",
            " [0.26388889 0.         0.82434295 ... 0.         0.55421687 0.1       ]\n",
            " [0.18055556 0.         0.88704519 ... 0.         0.48192771 0.1       ]]\n"
          ],
          "name": "stdout"
        }
      ]
    },
    {
      "cell_type": "code",
      "metadata": {
        "id": "NfkEDbqL5zOh",
        "colab_type": "code",
        "colab": {
          "base_uri": "https://localhost:8080/",
          "height": 238
        },
        "outputId": "05cd0a5a-5729-4ad0-f465-9fe2faab4152"
      },
      "source": [
        "d = Dataset('/content/data.csv')\n",
        "d.mapping_all()\n",
        "d.create_numpy_array()\n",
        "d.standarize()\n",
        "print(d.ndata)"
      ],
      "execution_count": 128,
      "outputs": [
        {
          "output_type": "stream",
          "text": [
            "[[-0.84176626 -0.61354263 -1.44811403 ... -0.16355896  1.18891581\n",
            "  -0.87268157]\n",
            " [-0.51900312 -0.00607468 -0.56854665 ... -0.16355896  1.54150057\n",
            "  -0.26241474]\n",
            " [ 1.86944409  0.60139327  0.04676868 ... -0.16355896 -2.4779657\n",
            "  -0.26241474]\n",
            " ...\n",
            " [ 1.03025993  2.42379711 -0.33655658 ... -0.16355896  0.13116153\n",
            "  -0.26241474]\n",
            " [-0.26079261 -0.61354263  2.14171524 ... -0.16355896  0.69529715\n",
            "  -0.26241474]\n",
            " [-0.64810838 -0.61354263  2.42622753 ... -0.16355896  0.27219544\n",
            "  -0.26241474]]\n"
          ],
          "name": "stdout"
        }
      ]
    },
    {
      "cell_type": "code",
      "metadata": {
        "id": "ubt_N4b4uuq7",
        "colab_type": "code",
        "colab": {}
      },
      "source": [
        ""
      ],
      "execution_count": 130,
      "outputs": []
    }
  ]
}